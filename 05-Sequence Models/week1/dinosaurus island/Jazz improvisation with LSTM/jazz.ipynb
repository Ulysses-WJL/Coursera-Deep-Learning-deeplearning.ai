{
 "cells": [
  {
   "cell_type": "code",
   "execution_count": 1,
   "metadata": {},
   "outputs": [],
   "source": [
    "import tensorflow as tf\n",
    "import numpy as np\n",
    "\n",
    "from tensorflow.keras import Model, layers, Input, optimizers, Sequential, optimizers"
   ]
  },
  {
   "cell_type": "code",
   "execution_count": 2,
   "metadata": {},
   "outputs": [],
   "source": [
    "gpus = tf.config.experimental.list_physical_devices('GPU')\n",
    "try:\n",
    "    for gpu in gpus:\n",
    "        print(gpu)\n",
    "        tf.config.experimental.set_memory_growth(gpu, True)\n",
    "except RuntimeError as e:\n",
    "    print(e)"
   ]
  },
  {
   "cell_type": "code",
   "execution_count": 3,
   "metadata": {},
   "outputs": [
    {
     "name": "stderr",
     "output_type": "stream",
     "text": [
      "Using TensorFlow backend.\n"
     ]
    }
   ],
   "source": [
    "from data_utils import generate_music, load_music_utils"
   ]
  },
  {
   "cell_type": "code",
   "execution_count": 4,
   "metadata": {},
   "outputs": [
    {
     "name": "stdout",
     "output_type": "stream",
     "text": [
      "shape of X: (60, 30, 78)\n",
      "number of training examples: 60\n",
      "Tx (length of sequence): 30\n",
      "total # of unique values: 78\n",
      "Shape of Y: (30, 60, 78)\n"
     ]
    }
   ],
   "source": [
    "X, Y, n_values, indices_values = load_music_utils()\n",
    "print('shape of X:', X.shape)  # 60段音乐  30个时间步 每个时间步输入为78个值中的一个\n",
    "print('number of training examples:', X.shape[0])\n",
    "print('Tx (length of sequence):', X.shape[1])\n",
    "print('total # of unique values:', n_values)\n",
    "print('Shape of Y:', Y.shape)  # Ty,m 78"
   ]
  },
  {
   "cell_type": "code",
   "execution_count": 5,
   "metadata": {},
   "outputs": [
    {
     "data": {
      "text/plain": [
       "(60, 30, 78)"
      ]
     },
     "execution_count": 5,
     "metadata": {},
     "output_type": "execute_result"
    }
   ],
   "source": [
    "Y_ = np.rollaxis(Y, 1, 0)\n",
    "Y_.shape"
   ]
  },
  {
   "cell_type": "code",
   "execution_count": 6,
   "metadata": {},
   "outputs": [],
   "source": [
    "X_ = tf.cast(X, dtype='float32')\n",
    "y_ = tf.cast(Y_, dtype='float32')"
   ]
  },
  {
   "cell_type": "code",
   "execution_count": 7,
   "metadata": {},
   "outputs": [],
   "source": [
    "n_values = 78\n",
    "n_a = 64\n",
    "Ty = 100"
   ]
  },
  {
   "cell_type": "code",
   "execution_count": 8,
   "metadata": {},
   "outputs": [],
   "source": [
    "LSTM = layers.LSTM(n_a, return_sequences=True)\n",
    "densor = layers.Dense(n_values, activation='softmax')"
   ]
  },
  {
   "cell_type": "code",
   "execution_count": 9,
   "metadata": {},
   "outputs": [],
   "source": [
    "def train(Tx, n_a, n_values):\n",
    "    X = Input(shape=(Tx, n_values))\n",
    "    out = LSTM(X)\n",
    "    out =densor(out)\n",
    "    model = Model(inputs=X, outputs=out)\n",
    "    return model"
   ]
  },
  {
   "cell_type": "code",
   "execution_count": 10,
   "metadata": {},
   "outputs": [],
   "source": [
    "train_model = train(30, n_a, n_values)"
   ]
  },
  {
   "cell_type": "code",
   "execution_count": 11,
   "metadata": {},
   "outputs": [],
   "source": [
    "opt = optimizers.Adam(lr=0.01, beta_1=0.9, beta_2=0.999, decay=0.01)\n",
    "\n",
    "train_model.compile(optimizer=opt, loss='categorical_crossentropy', metrics=['accuracy'])"
   ]
  },
  {
   "cell_type": "code",
   "execution_count": 12,
   "metadata": {},
   "outputs": [
    {
     "name": "stdout",
     "output_type": "stream",
     "text": [
      "Train on 60 samples\n",
      "Epoch 1/100\n",
      "60/60 [==============================] - 3s 56ms/sample - loss: 4.1960 - accuracy: 0.0422\n",
      "Epoch 2/100\n",
      "60/60 [==============================] - 0s 1ms/sample - loss: 4.0644 - accuracy: 0.1122\n",
      "Epoch 3/100\n",
      "60/60 [==============================] - 0s 1ms/sample - loss: 3.8541 - accuracy: 0.0844\n",
      "Epoch 4/100\n",
      "60/60 [==============================] - 0s 781us/sample - loss: 3.7556 - accuracy: 0.0989\n",
      "Epoch 5/100\n",
      "60/60 [==============================] - 0s 781us/sample - loss: 3.6608 - accuracy: 0.1144\n",
      "Epoch 6/100\n",
      "60/60 [==============================] - 0s 1ms/sample - loss: 3.5933 - accuracy: 0.1322\n",
      "Epoch 7/100\n",
      "60/60 [==============================] - 0s 1ms/sample - loss: 3.5027 - accuracy: 0.1422\n",
      "Epoch 8/100\n",
      "60/60 [==============================] - 0s 1ms/sample - loss: 3.3923 - accuracy: 0.1450\n",
      "Epoch 9/100\n",
      "60/60 [==============================] - 0s 1ms/sample - loss: 3.2644 - accuracy: 0.1661\n",
      "Epoch 10/100\n",
      "60/60 [==============================] - 0s 1ms/sample - loss: 3.1455 - accuracy: 0.1556\n",
      "Epoch 11/100\n",
      "60/60 [==============================] - 0s 781us/sample - loss: 3.0107 - accuracy: 0.1839\n",
      "Epoch 12/100\n",
      "60/60 [==============================] - 0s 1ms/sample - loss: 2.8892 - accuracy: 0.1872\n",
      "Epoch 13/100\n",
      "60/60 [==============================] - 0s 1ms/sample - loss: 2.7536 - accuracy: 0.2072\n",
      "Epoch 14/100\n",
      "60/60 [==============================] - 0s 1ms/sample - loss: 2.6254 - accuracy: 0.2506\n",
      "Epoch 15/100\n",
      "60/60 [==============================] - 0s 1ms/sample - loss: 2.5050 - accuracy: 0.2867\n",
      "Epoch 16/100\n",
      "60/60 [==============================] - 0s 1ms/sample - loss: 2.3832 - accuracy: 0.3100\n",
      "Epoch 17/100\n",
      "60/60 [==============================] - 0s 1ms/sample - loss: 2.2695 - accuracy: 0.3450\n",
      "Epoch 18/100\n",
      "60/60 [==============================] - 0s 1ms/sample - loss: 2.1786 - accuracy: 0.3689\n",
      "Epoch 19/100\n",
      "60/60 [==============================] - 0s 1ms/sample - loss: 2.0739 - accuracy: 0.3994\n",
      "Epoch 20/100\n",
      "60/60 [==============================] - 0s 1ms/sample - loss: 1.9856 - accuracy: 0.4394\n",
      "Epoch 21/100\n",
      "60/60 [==============================] - 0s 1ms/sample - loss: 1.8694 - accuracy: 0.4867\n",
      "Epoch 22/100\n",
      "60/60 [==============================] - 0s 1ms/sample - loss: 1.7756 - accuracy: 0.5172\n",
      "Epoch 23/100\n",
      "60/60 [==============================] - 0s 1ms/sample - loss: 1.6886 - accuracy: 0.5589\n",
      "Epoch 24/100\n",
      "60/60 [==============================] - 0s 1ms/sample - loss: 1.6026 - accuracy: 0.6022\n",
      "Epoch 25/100\n",
      "60/60 [==============================] - 0s 1ms/sample - loss: 1.5200 - accuracy: 0.6389\n",
      "Epoch 26/100\n",
      "60/60 [==============================] - 0s 1ms/sample - loss: 1.4433 - accuracy: 0.6856\n",
      "Epoch 27/100\n",
      "60/60 [==============================] - 0s 1ms/sample - loss: 1.3651 - accuracy: 0.7061\n",
      "Epoch 28/100\n",
      "60/60 [==============================] - 0s 1ms/sample - loss: 1.2925 - accuracy: 0.7306\n",
      "Epoch 29/100\n",
      "60/60 [==============================] - 0s 1ms/sample - loss: 1.2248 - accuracy: 0.7600\n",
      "Epoch 30/100\n",
      "60/60 [==============================] - 0s 1ms/sample - loss: 1.1573 - accuracy: 0.7811\n",
      "Epoch 31/100\n",
      "60/60 [==============================] - 0s 1ms/sample - loss: 1.0925 - accuracy: 0.7989\n",
      "Epoch 32/100\n",
      "60/60 [==============================] - 0s 1ms/sample - loss: 1.0327 - accuracy: 0.8278\n",
      "Epoch 33/100\n",
      "60/60 [==============================] - 0s 781us/sample - loss: 0.9758 - accuracy: 0.8417\n",
      "Epoch 34/100\n",
      "60/60 [==============================] - 0s 1ms/sample - loss: 0.9208 - accuracy: 0.8483\n",
      "Epoch 35/100\n",
      "60/60 [==============================] - 0s 1ms/sample - loss: 0.8692 - accuracy: 0.8600\n",
      "Epoch 36/100\n",
      "60/60 [==============================] - 0s 1ms/sample - loss: 0.8209 - accuracy: 0.8683\n",
      "Epoch 37/100\n",
      "60/60 [==============================] - 0s 1ms/sample - loss: 0.7762 - accuracy: 0.8794\n",
      "Epoch 38/100\n",
      "60/60 [==============================] - 0s 1ms/sample - loss: 0.7337 - accuracy: 0.8806\n",
      "Epoch 39/100\n",
      "60/60 [==============================] - 0s 1ms/sample - loss: 0.6943 - accuracy: 0.8867\n",
      "Epoch 40/100\n",
      "60/60 [==============================] - 0s 781us/sample - loss: 0.6571 - accuracy: 0.8950\n",
      "Epoch 41/100\n",
      "60/60 [==============================] - 0s 781us/sample - loss: 0.6234 - accuracy: 0.8967\n",
      "Epoch 42/100\n",
      "60/60 [==============================] - 0s 1ms/sample - loss: 0.5913 - accuracy: 0.9006\n",
      "Epoch 43/100\n",
      "60/60 [==============================] - 0s 1ms/sample - loss: 0.5624 - accuracy: 0.9039\n",
      "Epoch 44/100\n",
      "60/60 [==============================] - 0s 1ms/sample - loss: 0.5352 - accuracy: 0.9044\n",
      "Epoch 45/100\n",
      "60/60 [==============================] - 0s 1ms/sample - loss: 0.5109 - accuracy: 0.9056\n",
      "Epoch 46/100\n",
      "60/60 [==============================] - 0s 1ms/sample - loss: 0.4874 - accuracy: 0.9067\n",
      "Epoch 47/100\n",
      "60/60 [==============================] - 0s 1ms/sample - loss: 0.4671 - accuracy: 0.9083\n",
      "Epoch 48/100\n",
      "60/60 [==============================] - 0s 1ms/sample - loss: 0.4480 - accuracy: 0.9111\n",
      "Epoch 49/100\n",
      "60/60 [==============================] - 0s 1ms/sample - loss: 0.4308 - accuracy: 0.9111\n",
      "Epoch 50/100\n",
      "60/60 [==============================] - 0s 1ms/sample - loss: 0.4149 - accuracy: 0.9117\n",
      "Epoch 51/100\n",
      "60/60 [==============================] - 0s 1ms/sample - loss: 0.4004 - accuracy: 0.9128\n",
      "Epoch 52/100\n",
      "60/60 [==============================] - 0s 1ms/sample - loss: 0.3869 - accuracy: 0.9139\n",
      "Epoch 53/100\n",
      "60/60 [==============================] - 0s 1ms/sample - loss: 0.3742 - accuracy: 0.9139\n",
      "Epoch 54/100\n",
      "60/60 [==============================] - 0s 1ms/sample - loss: 0.3634 - accuracy: 0.9139\n",
      "Epoch 55/100\n",
      "60/60 [==============================] - 0s 1ms/sample - loss: 0.3529 - accuracy: 0.9139\n",
      "Epoch 56/100\n",
      "60/60 [==============================] - 0s 1ms/sample - loss: 0.3433 - accuracy: 0.9144\n",
      "Epoch 57/100\n",
      "60/60 [==============================] - 0s 1ms/sample - loss: 0.3342 - accuracy: 0.9156\n",
      "Epoch 58/100\n",
      "60/60 [==============================] - 0s 1ms/sample - loss: 0.3261 - accuracy: 0.9167\n",
      "Epoch 59/100\n",
      "60/60 [==============================] - 0s 1ms/sample - loss: 0.3188 - accuracy: 0.9172\n",
      "Epoch 60/100\n",
      "60/60 [==============================] - 0s 781us/sample - loss: 0.3117 - accuracy: 0.9172\n",
      "Epoch 61/100\n",
      "60/60 [==============================] - 0s 1ms/sample - loss: 0.3050 - accuracy: 0.9183\n",
      "Epoch 62/100\n",
      "60/60 [==============================] - 0s 1ms/sample - loss: 0.2991 - accuracy: 0.9189\n",
      "Epoch 63/100\n",
      "60/60 [==============================] - 0s 1ms/sample - loss: 0.2935 - accuracy: 0.9189\n",
      "Epoch 64/100\n",
      "60/60 [==============================] - 0s 1ms/sample - loss: 0.2880 - accuracy: 0.9189\n",
      "Epoch 65/100\n",
      "60/60 [==============================] - 0s 1ms/sample - loss: 0.2832 - accuracy: 0.9189\n",
      "Epoch 66/100\n",
      "60/60 [==============================] - 0s 781us/sample - loss: 0.2785 - accuracy: 0.9194\n",
      "Epoch 67/100\n",
      "60/60 [==============================] - 0s 781us/sample - loss: 0.2741 - accuracy: 0.9194\n",
      "Epoch 68/100\n",
      "60/60 [==============================] - 0s 1ms/sample - loss: 0.2700 - accuracy: 0.9194\n",
      "Epoch 69/100\n",
      "60/60 [==============================] - 0s 1ms/sample - loss: 0.2661 - accuracy: 0.9194\n",
      "Epoch 70/100\n",
      "60/60 [==============================] - 0s 781us/sample - loss: 0.2624 - accuracy: 0.9194\n",
      "Epoch 71/100\n",
      "60/60 [==============================] - 0s 781us/sample - loss: 0.2590 - accuracy: 0.9200\n",
      "Epoch 72/100\n",
      "60/60 [==============================] - 0s 1ms/sample - loss: 0.2557 - accuracy: 0.9200\n",
      "Epoch 73/100\n",
      "60/60 [==============================] - 0s 781us/sample - loss: 0.2525 - accuracy: 0.9217\n",
      "Epoch 74/100\n",
      "60/60 [==============================] - 0s 1ms/sample - loss: 0.2496 - accuracy: 0.9217\n",
      "Epoch 75/100\n",
      "60/60 [==============================] - 0s 1ms/sample - loss: 0.2468 - accuracy: 0.9217\n",
      "Epoch 76/100\n",
      "60/60 [==============================] - 0s 781us/sample - loss: 0.2442 - accuracy: 0.9217\n",
      "Epoch 77/100\n",
      "60/60 [==============================] - 0s 1ms/sample - loss: 0.2416 - accuracy: 0.9217\n",
      "Epoch 78/100\n",
      "60/60 [==============================] - 0s 1ms/sample - loss: 0.2392 - accuracy: 0.9217\n",
      "Epoch 79/100\n",
      "60/60 [==============================] - 0s 1ms/sample - loss: 0.2368 - accuracy: 0.9217\n",
      "Epoch 80/100\n",
      "60/60 [==============================] - 0s 781us/sample - loss: 0.2346 - accuracy: 0.9222\n"
     ]
    },
    {
     "name": "stdout",
     "output_type": "stream",
     "text": [
      "Epoch 81/100\n",
      "60/60 [==============================] - 0s 781us/sample - loss: 0.2325 - accuracy: 0.9222\n",
      "Epoch 82/100\n",
      "60/60 [==============================] - 0s 1ms/sample - loss: 0.2304 - accuracy: 0.9222\n",
      "Epoch 83/100\n",
      "60/60 [==============================] - 0s 1ms/sample - loss: 0.2285 - accuracy: 0.9222\n",
      "Epoch 84/100\n",
      "60/60 [==============================] - 0s 781us/sample - loss: 0.2266 - accuracy: 0.9222\n",
      "Epoch 85/100\n",
      "60/60 [==============================] - 0s 781us/sample - loss: 0.2248 - accuracy: 0.9222\n",
      "Epoch 86/100\n",
      "60/60 [==============================] - 0s 1ms/sample - loss: 0.2231 - accuracy: 0.9222\n",
      "Epoch 87/100\n",
      "60/60 [==============================] - 0s 1ms/sample - loss: 0.2214 - accuracy: 0.9222\n",
      "Epoch 88/100\n",
      "60/60 [==============================] - 0s 1ms/sample - loss: 0.2198 - accuracy: 0.9222\n",
      "Epoch 89/100\n",
      "60/60 [==============================] - 0s 1ms/sample - loss: 0.2182 - accuracy: 0.9222\n",
      "Epoch 90/100\n",
      "60/60 [==============================] - 0s 1ms/sample - loss: 0.2167 - accuracy: 0.9228\n",
      "Epoch 91/100\n",
      "60/60 [==============================] - 0s 1ms/sample - loss: 0.2152 - accuracy: 0.9228\n",
      "Epoch 92/100\n",
      "60/60 [==============================] - 0s 1ms/sample - loss: 0.2138 - accuracy: 0.9228\n",
      "Epoch 93/100\n",
      "60/60 [==============================] - 0s 781us/sample - loss: 0.2125 - accuracy: 0.9228\n",
      "Epoch 94/100\n",
      "60/60 [==============================] - 0s 781us/sample - loss: 0.2111 - accuracy: 0.9228\n",
      "Epoch 95/100\n",
      "60/60 [==============================] - 0s 1ms/sample - loss: 0.2098 - accuracy: 0.9228\n",
      "Epoch 96/100\n",
      "60/60 [==============================] - 0s 1ms/sample - loss: 0.2087 - accuracy: 0.9228\n",
      "Epoch 97/100\n",
      "60/60 [==============================] - 0s 1ms/sample - loss: 0.2074 - accuracy: 0.9228\n",
      "Epoch 98/100\n",
      "60/60 [==============================] - 0s 1ms/sample - loss: 0.2062 - accuracy: 0.9233\n",
      "Epoch 99/100\n",
      "60/60 [==============================] - 0s 781us/sample - loss: 0.2052 - accuracy: 0.9239\n",
      "Epoch 100/100\n",
      "60/60 [==============================] - 0s 1ms/sample - loss: 0.2040 - accuracy: 0.9239\n"
     ]
    },
    {
     "data": {
      "text/plain": [
       "<tensorflow.python.keras.callbacks.History at 0x1e78a208>"
      ]
     },
     "execution_count": 12,
     "metadata": {},
     "output_type": "execute_result"
    }
   ],
   "source": [
    "train_model.fit(X_, y_, epochs=100)"
   ]
  },
  {
   "cell_type": "code",
   "execution_count": 13,
   "metadata": {},
   "outputs": [],
   "source": [
    "def one_hot(x):\n",
    "    x = tf.argmax(x, axis=-1)\n",
    "    x = tf.one_hot(x, 78) \n",
    "    x = layers.RepeatVector(1)(x)\n",
    "    return x"
   ]
  },
  {
   "cell_type": "code",
   "execution_count": 14,
   "metadata": {},
   "outputs": [
    {
     "data": {
      "text/plain": [
       "<tf.Tensor: id=4310, shape=(1, 1, 78), dtype=float32, numpy=\n",
       "array([[[1., 0., 0., 0., 0., 0., 0., 0., 0., 0., 0., 0., 0., 0., 0., 0.,\n",
       "         0., 0., 0., 0., 0., 0., 0., 0., 0., 0., 0., 0., 0., 0., 0., 0.,\n",
       "         0., 0., 0., 0., 0., 0., 0., 0., 0., 0., 0., 0., 0., 0., 0., 0.,\n",
       "         0., 0., 0., 0., 0., 0., 0., 0., 0., 0., 0., 0., 0., 0., 0., 0.,\n",
       "         0., 0., 0., 0., 0., 0., 0., 0., 0., 0., 0., 0., 0., 0.]]],\n",
       "      dtype=float32)>"
      ]
     },
     "execution_count": 14,
     "metadata": {},
     "output_type": "execute_result"
    }
   ],
   "source": [
    "x = tf.zeros((1, 78))\n",
    "one_hot(x)"
   ]
  },
  {
   "cell_type": "code",
   "execution_count": 15,
   "metadata": {},
   "outputs": [],
   "source": [
    "def generate_model(n_values = 78, n_a = 64, Ty = 100):\n",
    "    x0 = Input(shape=(1, n_values))\n",
    "    a0 = Input(shape=(n_a,))\n",
    "    c0 = Input(shape=(n_a,))\n",
    "    outputs = []\n",
    "    a = a0\n",
    "    c = c0\n",
    "    x = x0\n",
    "    w = LSTM.get_weights()\n",
    "    lstm = tf.keras.layers.LSTM(n_a, weights=w, return_state=True)\n",
    "    for t in range(Ty):\n",
    "        out, a, c = lstm(x, initial_state=(a, c))\n",
    "        out = densor(out)\n",
    "        outputs.append(out)\n",
    "        x =  tf.keras.layers.Lambda(one_hot)(out) \n",
    "    inference_model = tf.keras.Model(inputs=[x0, a0, c0], outputs=outputs)\n",
    "    return inference_model"
   ]
  },
  {
   "cell_type": "code",
   "execution_count": 16,
   "metadata": {},
   "outputs": [],
   "source": [
    "music_model = generate_model(n_values, n_a, Ty)"
   ]
  },
  {
   "cell_type": "code",
   "execution_count": 17,
   "metadata": {},
   "outputs": [],
   "source": [
    "x_initializer = tf.zeros((1, 1, 78))\n",
    "a_initializer = tf.zeros((1, n_a))\n",
    "c_initializer = tf.zeros((1, n_a))"
   ]
  },
  {
   "cell_type": "code",
   "execution_count": 18,
   "metadata": {},
   "outputs": [
    {
     "name": "stdout",
     "output_type": "stream",
     "text": [
      "Predicting new values for different set of chords.\n",
      "Generated 100 sounds using the predicted values for the set of chords (\"1\") and after pruning\n",
      "Generated 100 sounds using the predicted values for the set of chords (\"2\") and after pruning\n",
      "Generated 101 sounds using the predicted values for the set of chords (\"3\") and after pruning\n",
      "Generated 101 sounds using the predicted values for the set of chords (\"4\") and after pruning\n",
      "Generated 101 sounds using the predicted values for the set of chords (\"5\") and after pruning\n",
      "Your generated music is saved in output/my_music.midi\n"
     ]
    }
   ],
   "source": [
    "out_stream = generate_music(music_model)"
   ]
  },
  {
   "cell_type": "code",
   "execution_count": null,
   "metadata": {},
   "outputs": [],
   "source": []
  }
 ],
 "metadata": {
  "kernelspec": {
   "display_name": "Python 3",
   "language": "python",
   "name": "python3"
  },
  "language_info": {
   "codemirror_mode": {
    "name": "ipython",
    "version": 3
   },
   "file_extension": ".py",
   "mimetype": "text/x-python",
   "name": "python",
   "nbconvert_exporter": "python",
   "pygments_lexer": "ipython3",
   "version": "3.7.2rc1"
  }
 },
 "nbformat": 4,
 "nbformat_minor": 2
}
